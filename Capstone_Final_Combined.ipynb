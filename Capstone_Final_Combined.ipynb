{
  "cells": [
    {
      "cell_type": "code",
      "execution_count": 3,
      "metadata": {
        "id": "11D_7zcLzqxQ"
      },
      "outputs": [],
      "source": [
        "import pandas as pd\n",
        "from sklearn.model_selection import train_test_split, GridSearchCV\n",
        "from sklearn.feature_selection import SelectKBest\n",
        "from sklearn.feature_selection import chi2\n",
        "from sklearn.ensemble import RandomForestClassifier\n",
        "from sklearn.svm import SVC\n",
        "from xgboost import XGBClassifier\n",
        "from sklearn.neighbors import KNeighborsClassifier\n",
        "from sklearn.preprocessing import LabelEncoder\n",
        "from sklearn.neighbors import KNeighborsClassifier\n",
        "from sklearn.neural_network import MLPClassifier\n",
        "from sklearn.metrics import accuracy_score, classification_report\n",
        "import numpy as np\n",
        "import joblib\n",
        "from joblib import dump\n",
        "import tensorflow as tf\n",
        "from sklearn.ensemble import RandomForestClassifier, GradientBoostingClassifier, ExtraTreesClassifier, AdaBoostClassifier, VotingClassifier"
      ]
    },
    {
      "cell_type": "code",
      "execution_count": 5,
      "metadata": {
        "id": "wsJMOVy7zxUQ"
      },
      "outputs": [],
      "source": [
        "data = pd.read_csv(\"C:/Users/Ramya/Downloads/Capstone_Final_Dataset.csv\")"
      ]
    },
    {
      "cell_type": "code",
      "execution_count": 6,
      "metadata": {
        "id": "8jrbHafNXRnz"
      },
      "outputs": [],
      "source": [
        "data = data.dropna()"
      ]
    },
    {
      "cell_type": "code",
      "execution_count": 7,
      "metadata": {
        "colab": {
          "base_uri": "https://localhost:8080/"
        },
        "id": "rTFrMMOHX5dl",
        "outputId": "5c0371e5-d285-4648-dde8-255a942e9ca3"
      },
      "outputs": [
        {
          "data": {
            "text/plain": [
              "548"
            ]
          },
          "execution_count": 7,
          "metadata": {},
          "output_type": "execute_result"
        }
      ],
      "source": [
        "data.shape[0]"
      ]
    },
    {
      "cell_type": "code",
      "execution_count": 8,
      "metadata": {
        "id": "vpxVgp6szy8j"
      },
      "outputs": [],
      "source": [
        "label_encoder = LabelEncoder()\n",
        "data['OBESITY'] = label_encoder.fit_transform(data['OBESITY'])\n",
        "data['MENSTRUAL IRREGULARITY'] = label_encoder.fit_transform(data['MENSTRUAL IRREGULARITY'])\n",
        "data['THYROID PROBLEM'] = label_encoder.fit_transform(data['THYROID PROBLEM'])\n",
        "data['CARDIOVASCULAR DISEASE'] = label_encoder.fit_transform(data['CARDIOVASCULAR DISEASE'])\n",
        "data['PCOS'] = label_encoder.fit_transform(data['PCOS'])\n",
        "data['HYPERTENSION'] = label_encoder.fit_transform(data['HYPERTENSION'])\n",
        "data['DIABETES'] = label_encoder.fit_transform(data['DIABETES'])\n",
        "data['HOT FLASHES'] = label_encoder.fit_transform(data['HOT FLASHES'])\n",
        "data['SWEAT'] = label_encoder.fit_transform(data['SWEAT'])\n",
        "data['MOOD SWINGS'] = label_encoder.fit_transform(data['MOOD SWINGS'])\n",
        "data['FATIGUE'] = label_encoder.fit_transform(data['FATIGUE'])\n",
        "data['Lifestyle Modification'] = label_encoder.fit_transform(data['Lifestyle Modification'])\n",
        "data['T2DM'] = label_encoder.fit_transform(data['T2DM'])\n",
        "data['Less salt intake'] = label_encoder.fit_transform(data['Less salt intake'])\n",
        "data['Regular exercise'] = label_encoder.fit_transform(data['Regular exercise'])\n",
        "data['Nutrition rich food'] = label_encoder.fit_transform(data['Nutrition rich food'])\n",
        "data['Medication'] = label_encoder.fit_transform(data['Medication'])\n",
        "data['SEVERITY'] = label_encoder.fit_transform(data['SEVERITY'])"
      ]
    },
    {
      "cell_type": "code",
      "execution_count": 9,
      "metadata": {
        "id": "yvnDrthZkovP"
      },
      "outputs": [],
      "source": [
        "thresholds = {\n",
        "    'HB': (12, 16),\n",
        "    'SBP': (90, 120),\n",
        "    'DBP': (60, 80),\n",
        "    'FSH': (25.8, 134.8),\n",
        "    'PROLACTIN': (2, 25),\n",
        "    'ESTROGEN': (30, 400),\n",
        "    'LH': (14.2, 52.3),\n",
        "    'PROGESTERONE': (0.2, 1),\n",
        "    'GNRH': (2, 10),\n",
        "    'VITAMIN D': (20, 40),\n",
        "    'TSH': (0.46, 4),\n",
        "    'FT3': (2.3, 4.1),\n",
        "    'FT4': (0.8, 1.8)\n",
        "}\n",
        "\n",
        "for feature, (low, high) in thresholds.items():\n",
        "    data[feature + '_Category'] = pd.cut(data[feature], bins=[-float('inf'), low, high, float('inf')], labels=['Low', 'Normal', 'High'])"
      ]
    },
    {
      "cell_type": "code",
      "execution_count": 10,
      "metadata": {
        "colab": {
          "base_uri": "https://localhost:8080/"
        },
        "id": "10n4MTRmz0lg",
        "outputId": "d1577806-f5a4-4b51-baa4-306a437bb839"
      },
      "outputs": [
        {
          "name": "stdout",
          "output_type": "stream",
          "text": [
            "Selected Features: Index(['AGE', 'MENSTRUAL IRREGULARITY', 'THYROID PROBLEM', 'WEIGHT',\n",
            "       'ESTROGEN', 'FT3', 'HEART RATE', 'LH'],\n",
            "      dtype='object')\n"
          ]
        }
      ],
      "source": [
        "x = data[['AGE','OBESITY','MENSTRUAL IRREGULARITY','THYROID PROBLEM','CARDIOVASCULAR DISEASE','PCOS','HYPERTENSION','DIABETES','HEIGHT','WEIGHT','BMI','HB','FSH','ESTROGEN','PROGESTERONE','VITAMIN D','FT3','HEART RATE','SBP','DBP','PROLACTIN','LH','GNRH','TSH','FT4','HDL','TG','HOT FLASHES','SWEAT','MOOD SWINGS','FATIGUE']]\n",
        "y = data['SEVERITY']\n",
        "\n",
        "k_best = 8\n",
        "selector = SelectKBest(score_func=chi2, k=k_best)\n",
        "x_train_select = selector.fit_transform(x,y)\n",
        "\n",
        "selected_features = x.columns[selector.get_support()]\n",
        "print(\"Selected Features:\", selected_features)"
      ]
    },
    {
      "cell_type": "code",
      "execution_count": 11,
      "metadata": {
        "id": "P0kbFN7Q0gK-"
      },
      "outputs": [],
      "source": [
        "X = data[['AGE', 'MENSTRUAL IRREGULARITY', 'THYROID PROBLEM', 'WEIGHT',\n",
        "       'ESTROGEN', 'FT3', 'HEART RATE', 'LH','MOOD SWINGS','HOT FLASHES']]\n",
        "recommendations = ['Lifestyle Modification', 'T2DM', 'Less salt intake', 'Regular exercise', 'Nutrition rich food','Medication']\n",
        "rec = data[recommendations]"
      ]
    },
    {
      "cell_type": "code",
      "execution_count": 12,
      "metadata": {
        "id": "D8Oszucqz2XV"
      },
      "outputs": [],
      "source": [
        "X_train, X_test, y_train, y_test = train_test_split(X, y, test_size=0.2,random_state=42)"
      ]
    },
    {
      "cell_type": "code",
      "execution_count": 13,
      "metadata": {
        "id": "rSfKt82VLelO"
      },
      "outputs": [],
      "source": [
        "X_train_rec, X_test_rec, y_train_rec, y_test_rec = train_test_split(X, rec, test_size=0.2, random_state=42)"
      ]
    },
    {
      "cell_type": "code",
      "execution_count": 14,
      "metadata": {
        "colab": {
          "base_uri": "https://localhost:8080/"
        },
        "id": "zYy8gDQ_t-RT",
        "outputId": "09a2bc00-9135-4ef9-b610-99f3082acde8"
      },
      "outputs": [
        {
          "name": "stderr",
          "output_type": "stream",
          "text": [
            "c:\\Users\\Ramya\\AppData\\Local\\Programs\\Python\\Python312\\Lib\\site-packages\\sklearn\\neural_network\\_multilayer_perceptron.py:691: ConvergenceWarning: Stochastic Optimizer: Maximum iterations (200) reached and the optimization hasn't converged yet.\n",
            "  warnings.warn(\n"
          ]
        }
      ],
      "source": [
        "# MLPClassifier\n",
        "mlp_model = MLPClassifier()\n",
        "mlp_param_grid = {\n",
        "    'hidden_layer_sizes': [(50,), (100,), (150,)],\n",
        "    'activation': ['relu', 'logistic', 'tanh'],\n",
        "    'alpha': [0.0001, 0.001, 0.01]\n",
        "}\n",
        "mlp_grid_search = GridSearchCV(mlp_model, mlp_param_grid, cv=5, scoring='accuracy', n_jobs=-1)\n",
        "mlp_grid_search.fit(X_train, y_train)\n",
        "mlp_best_model = mlp_grid_search.best_estimator_"
      ]
    },
    {
      "cell_type": "code",
      "execution_count": 20,
      "metadata": {
        "id": "JzFG8ihot-3-"
      },
      "outputs": [],
      "source": [
        "# ExtraTreesClassifier\n",
        "extra_trees_model = ExtraTreesClassifier()\n",
        "extra_trees_param_grid = {\n",
        "    'n_estimators': [50, 100, 150],\n",
        "    'max_depth': [None, 10, 20],\n",
        "    'min_samples_split': [2, 5, 10]\n",
        "}\n",
        "extra_trees_grid_search = GridSearchCV(extra_trees_model, extra_trees_param_grid, cv=5, scoring='accuracy', n_jobs=-1)\n",
        "extra_trees_grid_search.fit(X_train, y_train)\n",
        "extra_trees_best_model = extra_trees_grid_search.best_estimator_"
      ]
    },
    {
      "cell_type": "code",
      "execution_count": 21,
      "metadata": {
        "id": "-TE9VK2zuAxB"
      },
      "outputs": [],
      "source": [
        "# RandomForestClassifier\n",
        "rf_model = RandomForestClassifier()\n",
        "rf_param_grid = {\n",
        "    'n_estimators': [50, 100, 150],\n",
        "    'max_depth': [None, 10, 20],\n",
        "    'min_samples_split': [2, 5, 10]\n",
        "}\n",
        "rf_grid_search = GridSearchCV(rf_model, rf_param_grid, cv=5, scoring='accuracy', n_jobs=-1)\n",
        "rf_grid_search.fit(X_train, y_train)\n",
        "rf_best_model = rf_grid_search.best_estimator_"
      ]
    },
    {
      "cell_type": "code",
      "execution_count": 22,
      "metadata": {
        "id": "md0A04cSuC3m"
      },
      "outputs": [],
      "source": [
        "# GradientBoostingClassifier\n",
        "gb_model = GradientBoostingClassifier()\n",
        "gb_param_grid = {\n",
        "    'n_estimators': [50, 100, 150],\n",
        "    'learning_rate': [0.01, 0.1, 0.5],\n",
        "    'max_depth': [3, 5, 7]\n",
        "}\n",
        "gb_grid_search = GridSearchCV(gb_model, gb_param_grid, cv=5, scoring='accuracy', n_jobs=-1)\n",
        "gb_grid_search.fit(X_train, y_train)\n",
        "gb_best_model = gb_grid_search.best_estimator_"
      ]
    },
    {
      "cell_type": "code",
      "execution_count": 23,
      "metadata": {
        "id": "keBk3mLWuEgf"
      },
      "outputs": [
        {
          "name": "stderr",
          "output_type": "stream",
          "text": [
            "c:\\Users\\Ramya\\AppData\\Local\\Programs\\Python\\Python312\\Lib\\site-packages\\sklearn\\ensemble\\_weight_boosting.py:519: FutureWarning: The SAMME.R algorithm (the default) is deprecated and will be removed in 1.6. Use the SAMME algorithm to circumvent this warning.\n",
            "  warnings.warn(\n"
          ]
        }
      ],
      "source": [
        "# AdaBoostClassifier\n",
        "ada_model = AdaBoostClassifier()\n",
        "ada_param_grid = {\n",
        "    'n_estimators': [50, 100, 150],\n",
        "    'learning_rate': [0.01, 0.1, 0.5]\n",
        "}\n",
        "ada_grid_search = GridSearchCV(ada_model, ada_param_grid, cv=5, scoring='accuracy', n_jobs=-1)\n",
        "ada_grid_search.fit(X_train, y_train)\n",
        "ada_best_model = ada_grid_search.best_estimator_"
      ]
    },
    {
      "cell_type": "code",
      "execution_count": 24,
      "metadata": {
        "id": "v3CVijkNuGGu"
      },
      "outputs": [],
      "source": [
        "# XGBClassifier\n",
        "xgb_model = XGBClassifier()\n",
        "xgb_param_grid = {\n",
        "    'n_estimators': [50, 100, 150],\n",
        "    'learning_rate': [0.01, 0.1, 0.5],\n",
        "    'max_depth': [3, 5, 7]\n",
        "}\n",
        "xgb_grid_search = GridSearchCV(xgb_model, xgb_param_grid, cv=5, scoring='accuracy', n_jobs=-1)\n",
        "xgb_grid_search.fit(X_train, y_train)\n",
        "xgb_best_model = xgb_grid_search.best_estimator_"
      ]
    },
    {
      "cell_type": "code",
      "execution_count": 25,
      "metadata": {
        "id": "ix4o0FMouHoU"
      },
      "outputs": [],
      "source": [
        "# KNeighborsClassifier\n",
        "knn_model = KNeighborsClassifier()\n",
        "knn_param_grid = {\n",
        "    'n_neighbors': [3, 5, 7],\n",
        "    'weights': ['uniform', 'distance'],\n",
        "    'algorithm': ['auto', 'ball_tree', 'kd_tree']\n",
        "}\n",
        "knn_grid_search = GridSearchCV(knn_model, knn_param_grid, cv=5, scoring='accuracy', n_jobs=-1)\n",
        "knn_grid_search.fit(X_train, y_train)\n",
        "knn_best_model = knn_grid_search.best_estimator_"
      ]
    },
    {
      "cell_type": "code",
      "execution_count": 26,
      "metadata": {
        "colab": {
          "base_uri": "https://localhost:8080/"
        },
        "id": "JB5ucOLmzvDz",
        "outputId": "a214418a-7b1a-4b51-d09e-cfeea2f076a9"
      },
      "outputs": [
        {
          "name": "stdout",
          "output_type": "stream",
          "text": [
            "Meta-Model Accuracy: 92.72727272727272\n",
            "              precision    recall  f1-score   support\n",
            "\n",
            "           0       0.98      0.95      0.97        44\n",
            "           1       0.88      0.88      0.88        34\n",
            "           2       0.91      0.94      0.92        32\n",
            "\n",
            "    accuracy                           0.93       110\n",
            "   macro avg       0.92      0.92      0.92       110\n",
            "weighted avg       0.93      0.93      0.93       110\n",
            "\n"
          ]
        }
      ],
      "source": [
        "# Generate predictions from base models\n",
        "svc_model = SVC()\n",
        "svc_model.fit(X_train,y_train)\n",
        "svc_pred = svc_model.predict(X_test)\n",
        "rf_pred = rf_best_model.predict(X_test)\n",
        "gb_pred = gb_best_model.predict(X_test)\n",
        "ada_pred = ada_best_model.predict(X_test)\n",
        "xgb_pred = xgb_best_model.predict(X_test)\n",
        "mlp_pred = mlp_best_model.predict(X_test)\n",
        "extra_trees_pred = extra_trees_best_model.predict(X_test)\n",
        "knn_pred = knn_best_model.predict(X_test)\n",
        "\n",
        "\n",
        "# Create new features using base model predictions\n",
        "X_meta = np.column_stack((rf_pred, gb_pred, ada_pred, xgb_pred, mlp_pred, extra_trees_pred, knn_pred, svc_pred, rf_pred, gb_pred))\n",
        "\n",
        "meta_model =  RandomForestClassifier()\n",
        "meta_model.fit(X_meta, y_test)\n",
        "\n",
        "# Make predictions using the meta-model\n",
        "y_pred_meta = meta_model.predict(X_meta)\n",
        "\n",
        "# Evaluation\n",
        "meta_accuracy = accuracy_score(y_test, y_pred_meta)\n",
        "print(\"Meta-Model Accuracy:\", meta_accuracy*100)\n",
        "print(classification_report(y_test, y_pred_meta))"
      ]
    },
    {
      "cell_type": "code",
      "execution_count": 27,
      "metadata": {
        "colab": {
          "base_uri": "https://localhost:8080/"
        },
        "id": "plnhg-Sb8N1p",
        "outputId": "64d16990-abe8-4b7c-e2c9-fcbd9e0c8e85"
      },
      "outputs": [
        {
          "data": {
            "text/plain": [
              "['meta_model.joblib']"
            ]
          },
          "execution_count": 27,
          "metadata": {},
          "output_type": "execute_result"
        }
      ],
      "source": [
        "joblib.dump(meta_model, 'meta_model.joblib')"
      ]
    },
    {
      "cell_type": "code",
      "execution_count": 28,
      "metadata": {
        "colab": {
          "base_uri": "https://localhost:8080/"
        },
        "id": "mEzgGXAGLpXZ",
        "outputId": "2a8e1d5d-0a17-46c2-f615-0ccf549289f5"
      },
      "outputs": [
        {
          "name": "stdout",
          "output_type": "stream",
          "text": [
            "Accuracy for Lifestyle Modification: 0.89\n",
            "Accuracy for T2DM: 0.99\n",
            "Accuracy for Less salt intake: 0.98\n",
            "Accuracy for Regular exercise: 0.91\n",
            "Accuracy for Nutrition rich food: 0.99\n",
            "Accuracy for Medication: 0.89\n",
            "\n",
            "Overall Accuracy: 94.24242424242424\n"
          ]
        }
      ],
      "source": [
        "recommendation_models = {}\n",
        "\n",
        "# Train separate RandomForestClassifier models for each recommendation\n",
        "for recommendation in recommendations:\n",
        "    # Train the model\n",
        "    model = RandomForestClassifier(random_state=42)\n",
        "    model.fit(X_train_rec, y_train_rec[recommendation])\n",
        "    recommendation_models[recommendation] = model\n",
        "\n",
        "# Make predictions on the testing set\n",
        "y_pred_rec = {recommendation: model.predict(X_test_rec) for recommendation, model in recommendation_models.items()}\n",
        "\n",
        "# Evaluate the models\n",
        "accuracy = {recommendation: accuracy_score(y_test_rec[recommendation], y_pred_rec[recommendation]) for recommendation in recommendations}\n",
        "for recommendation in recommendations:\n",
        "    print(\"Accuracy for {}: {:.2f}\".format(recommendation, accuracy[recommendation]))\n",
        "\n",
        "# Calculate overall accuracy\n",
        "overall_accuracy = sum(accuracy.values()) / len(accuracy)\n",
        "print(\"\\nOverall Accuracy:\", overall_accuracy*100)"
      ]
    },
    {
      "cell_type": "code",
      "execution_count": 29,
      "metadata": {
        "id": "JpbzQtl-9yyD"
      },
      "outputs": [
        {
          "name": "stdout",
          "output_type": "stream",
          "text": [
            "Model for Lifestyle Modification saved as lifestyle_modification_model.joblib\n",
            "Model for T2DM saved as t2dm_model.joblib\n",
            "Model for Less salt intake saved as less_salt_intake_model.joblib\n",
            "Model for Regular exercise saved as regular_exercise_model.joblib\n",
            "Model for Nutrition rich food saved as nutrition_rich_food_model.joblib\n",
            "Model for Medication saved as medication_model.joblib\n"
          ]
        }
      ],
      "source": [
        "for recommendation, model in recommendation_models.items():\n",
        "    filename = f'{recommendation.replace(\" \", \"_\").lower()}_model.joblib'\n",
        "    dump(model, filename)\n",
        "    print(f'Model for {recommendation} saved as {filename}')"
      ]
    },
    {
      "cell_type": "code",
      "execution_count": 30,
      "metadata": {
        "id": "cq_kAnM94gid"
      },
      "outputs": [],
      "source": [
        "user_input = {\n",
        "    'AGE': 53,\n",
        "    'MENSTRUAL IRREGULARITY':0,\n",
        "    'THYROID PROBLEM': 0,\n",
        "    'WEIGHT': 90,\n",
        "    'ESTROGEN': 302,\n",
        "    'FT3': 308,\n",
        "    'HEART RATE': 92,\n",
        "    'LH': 15,\n",
        "    'MOOD SWINGS': 'No',\n",
        "    'HOT FLASHES': 'No'\n",
        "}\n",
        "\n",
        "user_input_encoded = {key: (1 if value == 'Yes' else 0 if value == 'No' else value) for key, value in user_input.items()}\n",
        "\n",
        "input_df = pd.DataFrame(user_input_encoded, index=[0])"
      ]
    },
    {
      "cell_type": "code",
      "execution_count": 31,
      "metadata": {
        "colab": {
          "base_uri": "https://localhost:8080/"
        },
        "id": "WpYYZ6WhW2zM",
        "outputId": "3a462427-7705-4df9-bf05-99e3aae983ff"
      },
      "outputs": [
        {
          "name": "stderr",
          "output_type": "stream",
          "text": [
            "c:\\Users\\Ramya\\AppData\\Local\\Programs\\Python\\Python312\\Lib\\site-packages\\sklearn\\base.py:493: UserWarning: X does not have valid feature names, but RandomForestClassifier was fitted with feature names\n",
            "  warnings.warn(\n",
            "c:\\Users\\Ramya\\AppData\\Local\\Programs\\Python\\Python312\\Lib\\site-packages\\sklearn\\base.py:493: UserWarning: X does not have valid feature names, but GradientBoostingClassifier was fitted with feature names\n",
            "  warnings.warn(\n",
            "c:\\Users\\Ramya\\AppData\\Local\\Programs\\Python\\Python312\\Lib\\site-packages\\sklearn\\base.py:493: UserWarning: X does not have valid feature names, but AdaBoostClassifier was fitted with feature names\n",
            "  warnings.warn(\n",
            "c:\\Users\\Ramya\\AppData\\Local\\Programs\\Python\\Python312\\Lib\\site-packages\\sklearn\\base.py:493: UserWarning: X does not have valid feature names, but MLPClassifier was fitted with feature names\n",
            "  warnings.warn(\n",
            "c:\\Users\\Ramya\\AppData\\Local\\Programs\\Python\\Python312\\Lib\\site-packages\\sklearn\\base.py:493: UserWarning: X does not have valid feature names, but ExtraTreesClassifier was fitted with feature names\n",
            "  warnings.warn(\n",
            "c:\\Users\\Ramya\\AppData\\Local\\Programs\\Python\\Python312\\Lib\\site-packages\\sklearn\\base.py:493: UserWarning: X does not have valid feature names, but KNeighborsClassifier was fitted with feature names\n",
            "  warnings.warn(\n",
            "c:\\Users\\Ramya\\AppData\\Local\\Programs\\Python\\Python312\\Lib\\site-packages\\sklearn\\base.py:493: UserWarning: X does not have valid feature names, but SVC was fitted with feature names\n",
            "  warnings.warn(\n",
            "c:\\Users\\Ramya\\AppData\\Local\\Programs\\Python\\Python312\\Lib\\site-packages\\sklearn\\base.py:493: UserWarning: X does not have valid feature names, but RandomForestClassifier was fitted with feature names\n",
            "  warnings.warn(\n",
            "c:\\Users\\Ramya\\AppData\\Local\\Programs\\Python\\Python312\\Lib\\site-packages\\sklearn\\base.py:493: UserWarning: X does not have valid feature names, but GradientBoostingClassifier was fitted with feature names\n",
            "  warnings.warn(\n"
          ]
        }
      ],
      "source": [
        "rf_pred_user = rf_best_model.predict([list(user_input_encoded.values())])\n",
        "gb_pred_user = gb_best_model.predict([list(user_input_encoded.values())])\n",
        "ada_pred_user = ada_best_model.predict([list(user_input_encoded.values())])\n",
        "xgb_pred_user = xgb_best_model.predict([list(user_input_encoded.values())])\n",
        "mlp_pred_user = mlp_best_model.predict([list(user_input_encoded.values())])\n",
        "extra_trees_pred_user = extra_trees_best_model.predict([list(user_input_encoded.values())])\n",
        "knn_pred_user = knn_best_model.predict([list(user_input_encoded.values())])\n",
        "svc_pred_user = svc_model.predict([list(user_input_encoded.values())])\n",
        "rf_pred_user = rf_best_model.predict([list(user_input_encoded.values())])\n",
        "gb_pred_user = gb_best_model.predict([list(user_input_encoded.values())])\n",
        "\n",
        "user_meta_input = np.column_stack((rf_pred_user, gb_pred_user, ada_pred_user, xgb_pred_user, mlp_pred_user, extra_trees_pred_user, knn_pred_user, svc_pred_user,rf_pred_user, gb_pred_user))"
      ]
    },
    {
      "cell_type": "code",
      "execution_count": 32,
      "metadata": {
        "colab": {
          "base_uri": "https://localhost:8080/",
          "height": 176
        },
        "id": "X5FuP2-_W7jS",
        "outputId": "d8ca1883-ba3e-4398-9b0d-3927bb5e2a16"
      },
      "outputs": [
        {
          "name": "stdout",
          "output_type": "stream",
          "text": [
            "Predicted severity: Severe\n",
            "Recommendations:\n",
            "Lifestyle Modification\n",
            "T2DM\n",
            "Medication\n"
          ]
        }
      ],
      "source": [
        "user_pred_meta = meta_model.predict(user_meta_input)\n",
        "mapping2 = {0: 'Mild', 1: 'Moderate', 2: 'Severe'}\n",
        "print(f\"Predicted severity: {mapping2.get(user_pred_meta[0], 'Unknown')}\")\n",
        "\n",
        "# Make predictions using the trained models\n",
        "recommendation_pred = {recommendation: model.predict(input_df) for recommendation, model in recommendation_models.items()}\n",
        "\n",
        "# Print the recommendations\n",
        "print(\"Recommendations:\")\n",
        "for recommendation, pred in recommendation_pred.items():\n",
        "    if pred[0] == 1:\n",
        "        print(recommendation)"
      ]
    },
    {
      "cell_type": "code",
      "execution_count": 34,
      "metadata": {},
      "outputs": [
        {
          "data": {
            "text/plain": [
              "['rf_model.joblib']"
            ]
          },
          "execution_count": 34,
          "metadata": {},
          "output_type": "execute_result"
        }
      ],
      "source": [
        "joblib.dump(rf_best_model, 'rf_model.joblib')\n"
      ]
    },
    {
      "cell_type": "code",
      "execution_count": 35,
      "metadata": {},
      "outputs": [
        {
          "data": {
            "text/plain": [
              "['svc_model.joblib']"
            ]
          },
          "execution_count": 35,
          "metadata": {},
          "output_type": "execute_result"
        }
      ],
      "source": [
        "joblib.dump(svc_model, 'svc_model.joblib')\n"
      ]
    },
    {
      "cell_type": "code",
      "execution_count": 36,
      "metadata": {},
      "outputs": [
        {
          "data": {
            "text/plain": [
              "['meta_model.joblib']"
            ]
          },
          "execution_count": 36,
          "metadata": {},
          "output_type": "execute_result"
        }
      ],
      "source": [
        "joblib.dump(meta_model, 'meta_model.joblib')"
      ]
    },
    {
      "cell_type": "code",
      "execution_count": 39,
      "metadata": {},
      "outputs": [
        {
          "data": {
            "text/plain": [
              "['mlp_model.joblib']"
            ]
          },
          "execution_count": 39,
          "metadata": {},
          "output_type": "execute_result"
        }
      ],
      "source": [
        "joblib.dump(mlp_best_model, 'mlp_model.joblib')"
      ]
    },
    {
      "cell_type": "code",
      "execution_count": 40,
      "metadata": {},
      "outputs": [
        {
          "data": {
            "text/plain": [
              "['gb_model.joblib']"
            ]
          },
          "execution_count": 40,
          "metadata": {},
          "output_type": "execute_result"
        }
      ],
      "source": [
        "joblib.dump(gb_best_model, 'gb_model.joblib')"
      ]
    },
    {
      "cell_type": "code",
      "execution_count": 41,
      "metadata": {},
      "outputs": [
        {
          "data": {
            "text/plain": [
              "['ada_model.joblib']"
            ]
          },
          "execution_count": 41,
          "metadata": {},
          "output_type": "execute_result"
        }
      ],
      "source": [
        "joblib.dump(ada_best_model, 'ada_model.joblib')"
      ]
    },
    {
      "cell_type": "code",
      "execution_count": 42,
      "metadata": {},
      "outputs": [
        {
          "data": {
            "text/plain": [
              "['xgb_model.joblib']"
            ]
          },
          "execution_count": 42,
          "metadata": {},
          "output_type": "execute_result"
        }
      ],
      "source": [
        "joblib.dump(xgb_best_model, 'xgb_model.joblib')"
      ]
    },
    {
      "cell_type": "code",
      "execution_count": 43,
      "metadata": {},
      "outputs": [
        {
          "data": {
            "text/plain": [
              "['et_model.joblib']"
            ]
          },
          "execution_count": 43,
          "metadata": {},
          "output_type": "execute_result"
        }
      ],
      "source": [
        "joblib.dump(extra_trees_best_model, 'et_model.joblib')"
      ]
    },
    {
      "cell_type": "code",
      "execution_count": 44,
      "metadata": {},
      "outputs": [
        {
          "data": {
            "text/plain": [
              "['knn_model.joblib']"
            ]
          },
          "execution_count": 44,
          "metadata": {},
          "output_type": "execute_result"
        }
      ],
      "source": [
        "joblib.dump(knn_best_model, 'knn_model.joblib')"
      ]
    },
    {
      "cell_type": "code",
      "execution_count": null,
      "metadata": {},
      "outputs": [],
      "source": []
    }
  ],
  "metadata": {
    "colab": {
      "provenance": []
    },
    "kernelspec": {
      "display_name": "Python 3",
      "name": "python3"
    },
    "language_info": {
      "codemirror_mode": {
        "name": "ipython",
        "version": 3
      },
      "file_extension": ".py",
      "mimetype": "text/x-python",
      "name": "python",
      "nbconvert_exporter": "python",
      "pygments_lexer": "ipython3",
      "version": "3.12.2"
    }
  },
  "nbformat": 4,
  "nbformat_minor": 0
}
